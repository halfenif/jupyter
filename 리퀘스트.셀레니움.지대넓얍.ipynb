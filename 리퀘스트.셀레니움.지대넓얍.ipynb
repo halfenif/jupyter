{
 "cells": [
  {
   "cell_type": "code",
   "execution_count": 3,
   "metadata": {},
   "outputs": [
    {
     "name": "stdout",
     "output_type": "stream",
     "text": [
      "145회 - [전생] 임진왜란 (선조 2부) : 22279675\n",
      "145회 - [전생] 임진왜란 (배경 1부) : 22279672\n",
      "144회 - [인물] 나는짱이다 (단테와 지옥여행 2부) : 22273646\n",
      "144회 - [인물] 나는짱이다 (단테와 지옥여행 1부) : 22273634\n",
      "143회 - [인물] 나는짱이다 (A.I.와 영생 2부) : 22264225\n",
      "143회 - [인물] 나는짱이다 (A.I.와 영생 1부) : 22264226\n",
      "142회 - [인물] 나는짱이다 (홀로코스트와 아빠 2부) : 22258489\n",
      "142회 - [인물] 나는짱이다 (홀로코스트와 아빠 1부) : 22258490\n",
      "141회 - [인물] 나는짱이다 (유비 3부) : 22253243\n",
      "141회 - [인물] 나는짱이다 (유비 2부) : 22253241\n",
      "----------------End]\n"
     ]
    }
   ],
   "source": [
    "from selenium import webdriver\n",
    "from selenium.common.exceptions import NoSuchElementException\n",
    "\n",
    "url = 'http://www.podbbang.com/ch/7418'\n",
    "\n",
    "#Driver\n",
    "driver = webdriver.Firefox(executable_path=\"C:/Users/junye/geckodriver-v0.16.1-win64/geckodriver.exe\")\n",
    "\n",
    "#Get\n",
    "driver.get(url)\n",
    "\n",
    "try:\n",
    "    episode_list = driver.find_elements_by_class_name(\"second\")\n",
    "    \n",
    "    for item in episode_list:\n",
    "        episode_title = ''\n",
    "        episode_id = ''\n",
    "        \n",
    "        episode_title = item.find_element_by_class_name(\"title_none\").text\n",
    "        dd_heart      = item.find_element_by_class_name('dd_heart')\n",
    "        episode_id    = dd_heart.find_element_by_tag_name('span').get_attribute(\"id\").replace('num_like','')\n",
    "        \n",
    "        \n",
    "        print(episode_title + ' : ' + episode_id)\n",
    "except NoSuchElementException:\n",
    "    print('NoSuchElementException')\n",
    "#finally:\n",
    "#    driver.quit()\n",
    "\n",
    "#End\n",
    "print('----------------End]')"
   ]
  }
 ],
 "metadata": {
  "kernelspec": {
   "display_name": "Python 3",
   "language": "python",
   "name": "python3"
  },
  "language_info": {
   "codemirror_mode": {
    "name": "ipython",
    "version": 3
   },
   "file_extension": ".py",
   "mimetype": "text/x-python",
   "name": "python",
   "nbconvert_exporter": "python",
   "pygments_lexer": "ipython3",
   "version": "3.6.0"
  }
 },
 "nbformat": 4,
 "nbformat_minor": 2
}
