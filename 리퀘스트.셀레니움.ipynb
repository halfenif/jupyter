{
 "cells": [
  {
   "cell_type": "code",
   "execution_count": 1,
   "metadata": {},
   "outputs": [
    {
     "name": "stdout",
     "output_type": "stream",
     "text": [
      "Raymond Burr : Actor, \"Rear Window\"\n",
      "Lisa Edelstein : Actress, \"What Women Want\"\n",
      "Fairuza Balk : Actress, \"American History X\"\n",
      "Mr. T : Actor, \"Cloudy with a Chance of Meatballs\"\n",
      "Judge Reinhold : Actor, \"Beverly Hills Cop\"\n",
      "Nick Cassavetes : Director, \"The Notebook\"\n",
      "Sarah Ramos : Actress, \"How to Be Single\"\n",
      "Hutch Dano : Actor, \"Zombeavers\"\n",
      "Richard Hatch : Actor, \"Battlestar Galactica\"\n",
      "Olivia Olson : Actress, \"Love Actually\"\n",
      "----------------End]\n"
     ]
    }
   ],
   "source": [
    "from selenium import webdriver\n",
    "from selenium.common.exceptions import NoSuchElementException\n",
    "\n",
    "\n",
    "url =\"http://m.imdb.com/feature/bornondate\"\n",
    "#Driver\n",
    "driver = webdriver.Firefox(executable_path=\"C:/Users/junye/geckodriver-v0.16.1-win64/geckodriver.exe\")\n",
    "\n",
    "#Get\n",
    "driver.get(url)\n",
    "\n",
    "\n",
    "try:\n",
    "    posterslist = driver.find_elements_by_class_name(\"poster\")\n",
    "    #print(posterslist)\n",
    "    \n",
    "    for item in posterslist:\n",
    "        title = item.find_element_by_class_name(\"title\").text\n",
    "        detail = item.find_element_by_class_name(\"detail\").text\n",
    "        \n",
    "        print(title + ' : ' + detail)\n",
    "except NoSuchElementException:\n",
    "    print('NoSuchElementException')\n",
    "\n",
    "#End\n",
    "driver.quit()\n",
    "print('----------------End]')"
   ]
  }
 ],
 "metadata": {
  "kernelspec": {
   "display_name": "Python 3",
   "language": "python",
   "name": "python3"
  },
  "language_info": {
   "codemirror_mode": {
    "name": "ipython",
    "version": 3
   },
   "file_extension": ".py",
   "mimetype": "text/x-python",
   "name": "python",
   "nbconvert_exporter": "python",
   "pygments_lexer": "ipython3",
   "version": "3.6.0"
  }
 },
 "nbformat": 4,
 "nbformat_minor": 2
}
