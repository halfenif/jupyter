{
 "cells": [
  {
   "cell_type": "code",
   "execution_count": 43,
   "metadata": {
    "collapsed": false
   },
   "outputs": [
    {
     "name": "stdout",
     "output_type": "stream",
     "text": [
      "['//c.o0bg.com/rf/image_1200w/Boston/2011-2020/2017/04/28/BostonGlobe.com/Metro/Images/tlumacki_arbordayofservice_metro234.jpg\"', '//c.o0bg.com/rf/image_1200w/Boston/2011-2020/2017/04/28/BostonGlobe.com/Metro/Images/kreiter_fountainfeature2a_met.jpg\"', '//c.o0bg.com/rf/image_1200w/Boston/2011-2020/2017/04/13/BostonGlobe.com/Metro/Images/ryan_seals1_met.jpg\"', '//c.o0bg.com/rf/image_1200w/Boston/2011-2020/2017/04/12/BostonGlobe.com/Metro/Images/Walker_041217_16fishermen_2639x.jpg\"', '//c.o0bg.com/rf/image_1200w/Boston/2011-2020/2017/04/30/BostonGlobe.com/Lifestyle/Images/Rinaldiinstagroups12.jpg\"', '//c.o0bg.com/rf/image_1200w/Boston/2011-2020/2017/04/16/BostonGlobe.com/Metro/Images/greenhouse_17sunrise-2_metro.jpg\"', '//c.o0bg.com/rf/image_1200w/Boston/2011-2020/2017/04/12/BostonGlobe.com/Metro/Images/kreiter_crosswalk6_met.jpg\"', '//c.o0bg.com/rf/image_1200w/Boston/2011-2020/2017/04/17/BostonGlobe.com/Metro/Images/rathe_battle_met01-9421.jpg\"', '//c.o0bg.com/rf/image_1200w/Boston/2011-2020/2017/04/11/BostonGlobe.com/Metro/Images/blanding041117feature1met.jpg\"', '//c.o0bg.com/rf/image_1200w/Boston/2011-2020/2017/04/19/BostonGlobe.com/Metro/Images/ryan_almostbloom9_met.jpg\"', '//c.o0bg.com/rf/image_1200w/Boston/2011-2020/2017/04/23/BostonGlobe.com/Metro/Images/IMG_4639.jpg\"', '//c.o0bg.com/rf/image_1200w/Boston/2011-2020/2017/04/10/BostonGlobe.com/Metro/Images/kreiter_dedhambodyid2_met.jpg\"', '//c.o0bg.com/rf/image_1200w/Boston/2011-2020/2017/04/26/BostonGlobe.com/Metro/Images/tlumacki_Brocktonfuneral_metro214.jpg\"', '//c.o0bg.com/rf/image_1200w/Boston/2011-2020/2017/04/25/BostonGlobe.com/Arts/Images/kreiter_cello2_arts.jpg\"', '//c.o0bg.com/rf/image_1200w/Boston/2011-2020/2017/04/18/BostonGlobe.com/ReceivedContent/Images/023.jpg\"', '//c.o0bg.com/rf/image_1200w/Boston/2011-2020/2017/04/25/BostonGlobe.com/Metro/Images/turner042517METROfeature283.jpg\"', '//c.o0bg.com/rf/image_1200w/Boston/2011-2020/2017/03/31/BostonGlobe.com/Metro/Images/Walker_033017_06congolese_4260x.jpg\"', '//c.o0bg.com/rf/image_1200w/Boston/2011-2020/2017/04/14/BostonGlobe.com/Metro/Images/Walker_041417_15nahant_1366x.jpg\"', '//c.o0bg.com/rf/image_1200w/Boston/2011-2020/2017/04/11/BostonGlobe.com/Metro/Images/Rinaldi12chrismpic01.jpg\"', '//c.o0bg.com/rf/image_1200w/Boston/2011-2020/2017/03/28/BostonGlobe.com/National/Images/RinaldiCanada02.jpg\"', '//c.o0bg.com/rf/image_1200w/Boston/2011-2020/2017/04/01/BostonGlobe.com/Metro/Images/Walker_040117_02signs_7180x-001.jpg\"', '//c.o0bg.com/rf/image_1200w/Boston/2011-2020/2017/04/06/BostonGlobe.com/Metro/Images/Walker_040517_05immigration_8591x[1].jpg\"', '//c.o0bg.com/rf/image_1200w/Boston/2011-2020/2017/04/06/BostonGlobe.com/Metro/Images/RinaldiFeature03-002.jpg\"', '//c.o0bg.com/rf/image_1200w/Boston/2011-2020/2017/04/10/BostonGlobe.com/Metro/Images/kreiter_moreweather2_met.jpg\"', '//c.o0bg.com/rf/image_1200w/Boston/2011-2020/2017/04/10/BostonGlobe.com/Metro/Images/Rinaldi10spring02-9317.jpg\"', '//c.o0bg.com/rf/image_1200w/Boston/2011-2020/2017/04/10/BostonGlobe.com/Sports/Images/20170410_RUNNING_SHOES_27.jpg\"', '//c.o0bg.com/rf/image_1200w/Boston/2011-2020/2017/04/17/BostonGlobe.com/Sports/Images/turner041717SPORTSmarathon246.jpg\"', '//c.o0bg.com/rf/image_1200w/Boston/2011-2020/2017/04/17/BostonGlobe.com/Sports/Images/RinaldiMarathon33.jpg\"', '//c.o0bg.com/rf/image_1200w/Boston/2011-2020/2017/04/29/BostonGlobe.com/Sports/Images/tlumacki_Div2HighSchool004track_sports.jpg\"', '//c.o0bg.com/rf/image_1200w/Boston/2011-2020/2017/04/08/BostonGlobe.com/Sports/Images/lee_revsdynamo4_spts.jpg\"', '//c.o0bg.com/rf/image_1200w/Boston/2011-2020/2017/04/21/BostonGlobe.com/Sports/Images/tlumacki_bruinsvssenatorsplayoffs_sports278.jpg\"', '//c.o0bg.com/rf/image_1200w/Boston/2011-2020/2017/04/05/BostonGlobe.com/Sports/Images/tlumacki_bruinsvstampabay_sports847.jpg\"', '//c.o0bg.com/rf/image_1200w/Boston/2011-2020/2017/04/22/BostonGlobe.com/Sports/Images/tlumacki_bruinsvssenatorsplayoffs_sports814.jpg\"', '//c.o0bg.com/rf/image_1200w/Boston/2011-2020/2017/04/23/BostonGlobe.com/Sports/Images/tlumacki_bruinsvssenatorsgame6_sports1320.jpg\"', '//c.o0bg.com/rf/image_1200w/Boston/2011-2020/2017/04/25/BostonGlobe.com/Sports/Images/RinaldiBruins08.jpg\"', '//c.o0bg.com/rf/image_1200w/Boston/2011-2020/2017/04/30/BostonGlobe.com/Sports/Images/RinaldiBCSoftball05.jpg\"', '//c.o0bg.com/rf/image_1200w/Boston/2011-2020/2017/04/24/BostonGlobe.com/Regional/Images/davis_tewks1_nowk.jpg\"', '//c.o0bg.com/rf/image_1200w/Boston/2011-2020/2017/04/12/BostonGlobe.com/ReceivedContent/Images/BigPicjersey_biz.jpg\"', '//c.o0bg.com/rf/image_1200w/Boston/2011-2020/2017/04/06/BostonGlobe.com/Sports/Images/tlumacki_soxvspirates_sports1684.jpg\"', '//c.o0bg.com/rf/image_1200w/Boston/2011-2020/2017/04/30/BostonGlobe.com/Sports/Images/davis_boswash22_spts.jpg\"', '//c.o0bg.com/rf/image_1200w/Boston/2011-2020/2017/04/24/BostonGlobe.com/Sports/Images/lee_bostonchi25_spts.jpg\"']\n"
     ]
    }
   ],
   "source": [
    "import re\n",
    "import requests\n",
    "\n",
    "#re.findall('<guid>(.*)</guid>', requests.get('http://www.bostonglobe.com/rss/bigpicture').text)\n",
    "\n",
    "\n",
    "for item in re.findall('<guid>(.*)</guid>', requests.get('http://www.bostonglobe.com/rss/bigpicture').text)[:1]:\n",
    "    out = requests.get(item).text\n",
    "    #print(out)\n",
    "    #cap = re.findall('<div class=\"gcaption geor\">(.*)</div>', out)\n",
    "    #print(cap)\n",
    "    \n",
    "    photo = re.findall('<div class=\"photo\"><img src=\"(.*)/></div>', out)\n",
    "    print(photo)\n"
   ]
  }
 ],
 "metadata": {
  "kernelspec": {
   "display_name": "Python 3",
   "language": "python",
   "name": "python3"
  },
  "language_info": {
   "codemirror_mode": {
    "name": "ipython",
    "version": 3
   },
   "file_extension": ".py",
   "mimetype": "text/x-python",
   "name": "python",
   "nbconvert_exporter": "python",
   "pygments_lexer": "ipython3",
   "version": "3.6.0"
  }
 },
 "nbformat": 4,
 "nbformat_minor": 2
}
